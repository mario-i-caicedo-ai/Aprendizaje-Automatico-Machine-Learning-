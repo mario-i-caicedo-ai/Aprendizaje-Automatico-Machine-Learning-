{
  "nbformat": 4,
  "nbformat_minor": 0,
  "metadata": {
    "colab": {
      "name": "fit_line.ipynb",
      "provenance": [],
      "collapsed_sections": [],
      "authorship_tag": "ABX9TyMzXTpk0qqKHW8GETlQm3s4",
      "include_colab_link": true
    },
    "kernelspec": {
      "name": "python3",
      "display_name": "Python 3"
    }
  },
  "cells": [
    {
      "cell_type": "markdown",
      "metadata": {
        "id": "view-in-github",
        "colab_type": "text"
      },
      "source": [
        "<a href=\"https://colab.research.google.com/github/mario-i-caicedo-ai/Aprendizaje-Automatico-Machine-Learning-/blob/main/notebooks/fit_line.ipynb\" target=\"_parent\"><img src=\"https://colab.research.google.com/assets/colab-badge.svg\" alt=\"Open In Colab\"/></a>"
      ]
    },
    {
      "cell_type": "markdown",
      "metadata": {
        "id": "q1X5i8PrQa-I"
      },
      "source": [
        "<h1><b><center>Introducción al Aprendizaje Automático</center></b></h1>\n",
        "<h1><b><center>Primer Ejemplo: Regresión Lineal Simple</center></b></h1>\n",
        "\n",
        "\n",
        "<h2><center>Mario I. Caicedo</center></h2>\n"
      ]
    },
    {
      "cell_type": "markdown",
      "metadata": {
        "id": "vh7VnwVvVr7k"
      },
      "source": [
        "El problema de regresión lineal simple -probablemente el problema más sencillo de **aprendizaje supervisado**- consiste en encontrar los parámetros (pendiente e intercepto de una recta) que permitan hacer **la mejor** predicción (extrapolación) posible a datos que provengan de dos atributos que se visualizan alineados en un gráfico cruzado.  \n",
        "\n",
        "Este es un problema totalmente resuelto en estadística clásica, lo que de ninguna manera disminuye el interés que pueda despertar y es por ello que este cuaderno describe su solución de manera exhaustiva."
      ]
    },
    {
      "cell_type": "markdown",
      "metadata": {
        "id": "TJW4rl8hJsT0"
      },
      "source": [
        "------------------------------------------------"
      ]
    },
    {
      "cell_type": "markdown",
      "metadata": {
        "id": "YUPKCsufJfw9"
      },
      "source": [
        "* El objetivo de este cuaderno consiste en presentar la solución al problema de ajuste lineal simple de manera exhaustiva y pedagógica. \n",
        "\n",
        "* De acuerdo al objetivo, se destacarán las matemáticas que están detrás del proceso.\n",
        "\n",
        "* El problema se presentará en cuatro formas distintas. \n",
        "    * En dos de ellas el apoyo en bibliotecas será mínimo (solo recurriremos al cálculo de transpuestas e inversas de matrices).\n",
        "    * En las otras dos utilizaremos **sklearn**, una biblioteca estándar de machine learning (*ML*).  "
      ]
    },
    {
      "cell_type": "markdown",
      "metadata": {
        "id": "3ZdsB_BIylPP"
      },
      "source": [
        "### **Bibliotecas**"
      ]
    },
    {
      "cell_type": "code",
      "metadata": {
        "id": "DIlCNHcLlUpK"
      },
      "source": [
        "import numpy as np\n",
        "import scipy \n",
        "import pandas as pd\n",
        "\n",
        "from scipy import stats\n",
        "from scipy import linalg\n",
        "\n",
        "import sklearn\n",
        "\n",
        "from sklearn.linear_model import LinearRegression\n",
        "\n",
        "from sklearn import datasets, linear_model\n",
        "from sklearn.metrics import mean_squared_error, r2_score\n",
        "\n",
        "\n",
        "import matplotlib as plt\n",
        "import matplotlib.pyplot as plt"
      ],
      "execution_count": null,
      "outputs": []
    },
    {
      "cell_type": "markdown",
      "metadata": {
        "id": "2jYBi_YZ1xRT"
      },
      "source": [
        "# **Introducción**"
      ]
    },
    {
      "cell_type": "markdown",
      "metadata": {
        "id": "Uu9TS9vhNK8b"
      },
      "source": [
        "* El problema de interés comienza por un conjunto de datos experimentales que vienen dados de a pares \n",
        "\n",
        "$$(x_1,y_1)\\,,(x_2,y_2)\\,,...,(x_N,y_N)$$ \n",
        "\n",
        "* Típicamente, los valores $y_i$ han sido medidos con algún error y al hacer un gŕafico $y$ vs $x$ encontramos que parece haber una relación del tipo\n",
        "\n",
        "$$y=ax+b$$\n",
        "\n",
        "* En la notación estándar de *problemas inversos*, se tienen $N$ **mediciones (datos)** $d^{(i)}$ ($d\\approx{}y$), correspondientes a un muestreo ($f^{i}$) de la variable indpendiente $f\\approx{}x$ y parámetros $m$ y $n$ en la forma,\n",
        "\n",
        "$$\\boxed{d^{(i)}=m\\,f^{(i)}+n+\\varepsilon^{(i)}\\,,\\qquad\\,i=1,2,...,N}$$\n",
        "\n",
        "* Los valores $\\varepsilon^{(i)}$ son las incertdumbres en las mediciones de tiempo y posición\n",
        "\n",
        "* En la notación estándar de estadística y ML (ver Andrew Ng) \n",
        "\n",
        "$$\\boxed{y^{(i)}=h_{\\Theta}(x^{(i)})=\\theta_0+\\theta_1\\,f^{(i)}+\\varepsilon^{(i)}}$$\n",
        "donde $h_\\Theta$ es la *hipótesis*\n",
        "\n",
        "* Es importante notar que las relaciones entre las mediciones y los parámetros se pueden reescribir en las formas alternativas\n",
        "\n",
        "$$\\boxed{y^{(i)}=h_\\Theta(x^{(i)})}$$\n",
        "\n",
        "$$\\boxed{\\mathbf{d}=\\mathbf{Fm}\\qquad\\mathbf{y}=\\mathbf{F\\Theta}}$$\n",
        "\n",
        "* Donde $\\mathbf{d}$ ($\\mathbf{y}$) es el vector de los datos (de $N$ entradas), $\\mathbf{F}$ una matriz $N\\times{}2$, y\n",
        "\n",
        "$$\\Theta=\\mathbf{m}=\\begin{pmatrix}n\\\\m\\end{pmatrix}=\\begin{pmatrix}\\theta_0\\\\\\theta_1\\end{pmatrix}$$\n",
        "\n",
        "* **El problema de ajuste (ó *aprendizaje*) consiste en encontrar el vector de parámetros $\\Theta$**\n",
        "\n",
        "* Una vez que se alcanza el **aprendizaje**, es decir, se encontraron valores para $m$ y $n$, estos valores (parámetros) se pueden utilizar junto con la hipótesis para llevar a cabo predecciones (extrapolaciones)  \n",
        "\n",
        "* Para resolver el problema se introduce un problema de minimización.\n",
        "\n",
        "* La función de costo (error cuadrático medio) es:\n",
        "\n",
        "$$J(\\mathbf{m})=(\\mathbf{d}-\\mathbf{Fm})^T(\\mathbf{d}-\\mathbf{Fm})$$\n",
        "\n",
        "* La solución al problema de aprendizaje se reduce a  minimizar la función de costo con respecto a lo parámetos.\n",
        "\n",
        "* Se puede encontrar una solución directa buscando los puntos críticos de $J$, esto es, resolviendo\n",
        "\n",
        "$$\\nabla_{\\mathbf{m}}J=0\\,,$$\n",
        "que resulta en\n",
        "$$\\boxed{\\mathbf{m}=(\\mathbf{F}^T\\mathbf{F})^{-1}\\,\\mathbf{F}^TX}$$\n",
        "\n",
        "* Esta solución explítica requiere el cálculo de la inversa de la matriz $\\mathbf{F}^T\\mathbf{F}$ que en este caso es un problema casi trivial, pero que en el caso de un modelo lineal con $p$ parámetros puede complicarse por un conjunto de problemas bien conocidos en la subdisciplina del álgebra lineal numérica como por ejemplo\n",
        "    * Largos tiempos de cálculo para problemas muy grandes y\n",
        "    * Mal condicionamiento de la matriz $\\mathbf{F}^T\\mathbf{F}$\n",
        "\n",
        "* El problema de aprendizaje también puede resolverse minimizando la función de costo a través de la técnica de **Descenso por Gradiente**.\n"
      ]
    },
    {
      "cell_type": "markdown",
      "metadata": {
        "id": "zL5Yg3w0UYAD"
      },
      "source": [
        "### Acerca de Gradient Descent\n",
        "\n",
        "https://www.youtube.com/watch?v=4b4MUYve_U8  Andrew Ng\n",
        "\n",
        "https://en.wikipedia.org/wiki/Gradient_descent \n",
        "\n",
        "https://stackabuse.com/gradient-descent-in-python-implementation-and-theory/  [base de este código]\n",
        "\n",
        "https://www.kdnuggets.com/2017/04/simple-understand-gradient-descent-algorithm.html [Quite good]\n",
        "\n",
        "https://www.khanacademy.org/math/multivariable-calculus/applications-of-multivariable-derivatives/optimizing-multivariable-functions/a/what-is-gradient-descent\n",
        "\n",
        "https://builtin.com/data-science/gradient-descent\n",
        "\n",
        "https://the-learning-machine.com/article/optimization/gradient-descent?gclid=Cj0KCQjwjo2JBhCRARIsAFG667Uz24oCgRxnsUObV0xMXgrqeCyatZ3e0ogoR7W8xG97J5EL7tdlNxEaAg4eEALw_wcB\n",
        "\n",
        "https://vitalflux.com/gradient-descent-explained-simply-with-examples/\n",
        "\n",
        "https://towardsdatascience.com/understanding-the-mathematics-behind-gradient-descent-dde5dc9be06e\n",
        "\n",
        "https://towardsdatascience.com/gradient-descent-in-python-a0d07285742f\n",
        "\n",
        "https://stackabuse.com/gradient-descent-in-python-implementation-and-theory/\n",
        "\n",
        "https://towardsdatascience.com/implement-gradient-descent-in-python-9b93ed7108d1"
      ]
    },
    {
      "cell_type": "markdown",
      "metadata": {
        "id": "nq92qMTW1XY_"
      },
      "source": [
        "# En este cuaderno resolveremos el problema de aprendizaje con un conjunto único de **datos sintéticos**."
      ]
    },
    {
      "cell_type": "markdown",
      "metadata": {
        "id": "kxqZZqFI192l"
      },
      "source": [
        "* Los datos sintéticos corresponden a un movimiento de velocidad constante\n",
        "* $x(t)=v_0\\,t+x_0$"
      ]
    },
    {
      "cell_type": "markdown",
      "metadata": {
        "id": "vWOuCOijf39n"
      },
      "source": [
        "# **Parte III**\n",
        "\n",
        "### Creación de los datos sintéticos"
      ]
    },
    {
      "cell_type": "markdown",
      "metadata": {
        "id": "391Mr3YUw-YN"
      },
      "source": [
        "### La función hipotesis calcula los valores de x(t) a partir de una lista de tiempos generada con linspace."
      ]
    },
    {
      "cell_type": "code",
      "metadata": {
        "id": "egFOOWUptxnK"
      },
      "source": [
        "def hipotesis(t,Theta,porcentaje_ruido):\n",
        "  np.random.seed(42)\n",
        "  factor=porcentaje_ruido/100\n",
        "  noise=factor*np.random.normal(size=21)\n",
        "  h=Theta[0]+Theta[1]*t+noise\n",
        "  return(h)"
      ],
      "execution_count": null,
      "outputs": []
    },
    {
      "cell_type": "markdown",
      "metadata": {
        "id": "JHfMfIK75Ood"
      },
      "source": [
        "### Creación de los datos sintéticos\n",
        "\n",
        "En una aplicación real, los datos deberían leerse"
      ]
    },
    {
      "cell_type": "code",
      "metadata": {
        "id": "_XZd5mvGwUOQ"
      },
      "source": [
        "t=np.linspace(0,10,21)\n",
        "v0=-1.41\n",
        "x0=0.57\n",
        "\n",
        "Theta=np.zeros(2)\n",
        "Theta[0]=x0\n",
        "Theta[1]=v0\n",
        "\n",
        "porcentaje_ruido=10.\n",
        "\n",
        "x=hipotesis(t,Theta,porcentaje_ruido)"
      ],
      "execution_count": null,
      "outputs": []
    },
    {
      "cell_type": "markdown",
      "metadata": {
        "id": "acSPcZ8HMspn"
      },
      "source": [
        "### Visualización de los datos sintéticos"
      ]
    },
    {
      "cell_type": "code",
      "metadata": {
        "colab": {
          "base_uri": "https://localhost:8080/",
          "height": 295
        },
        "id": "ZdLPJ7fkc539",
        "outputId": "5edddc59-906d-4aeb-a476-74af5fb64d9a"
      },
      "source": [
        "fig, dx = plt.subplots()\n",
        "dx.scatter(t, x, edgecolors=(0, 0, 0))\n",
        "\n",
        "plt.title('Datos Sintéticos')\n",
        "dx.set_xlabel('tiempo (s)')\n",
        "dx.set_ylabel('Posición (m)')\n",
        "plt.show()"
      ],
      "execution_count": null,
      "outputs": [
        {
          "output_type": "display_data",
          "data": {
            "image/png": "[encoded data removed]",
            "text/plain": [
              "<Figure size 432x288 with 1 Axes>"
            ]
          },
          "metadata": {
            "needs_background": "light"
          }
        }
      ]
    },
    {
      "cell_type": "markdown",
      "metadata": {
        "id": "5kKbQZlchCJk"
      },
      "source": [
        "# **Parte II**\n",
        "\n",
        "### Soluciones sin recurrir a bibliotecas"
      ]
    },
    {
      "cell_type": "markdown",
      "metadata": {
        "id": "cWb-_wnnXIcQ"
      },
      "source": [
        "------------------------------------------------------------"
      ]
    },
    {
      "cell_type": "markdown",
      "metadata": {
        "id": "P1ML7Pz5Xn21"
      },
      "source": [
        "# Primer ajuste\n",
        "\n",
        "## Solución analítica\n",
        "\n",
        "* Resolver el sistema:\n",
        "$$\n",
        "\\mathbf{F}^T\\mathbf{F}\\boldsymbol{\\Theta}=\\mathbf{F}^T\\mathbf{X}\n",
        "$$\n",
        "\n",
        "* Donde $\\mathbf{F}$ es la matriz de tiempos\n",
        "$$\\mathbf{F}=\\begin{pmatrix}1&t^{(1)}\\\\\n",
        "1&t^{(2)}\\\\\\vdots&\\vdots\\\\1&t^{(N)}\\end{pmatrix}$$\n"
      ]
    },
    {
      "cell_type": "markdown",
      "metadata": {
        "id": "BqEoay-AbFoo"
      },
      "source": [
        "### Paso 1: Construcción y Transposición de\n",
        "\n",
        "$$\\mathbf{F}$$\n",
        "\n",
        "### Paso 2: Cálculo de $$\\mathbf{F}^T\\mathbf{F}$$\n",
        " \n",
        "\n"
      ]
    },
    {
      "cell_type": "code",
      "metadata": {
        "id": "cdjY62j7EQx2"
      },
      "source": [
        "F=np.zeros((21,2))\n",
        "\n",
        "for p in range(0,21):\n",
        "  F[p,0]=1.\n",
        "  F[p,1]=t[p]\n",
        "\n",
        "FT=F.T # Transposición de M\n",
        "FTF= FT.dot(F)"
      ],
      "execution_count": null,
      "outputs": []
    },
    {
      "cell_type": "markdown",
      "metadata": {
        "id": "qoeISbIsbAlm"
      },
      "source": [
        "### Paso 3: Solución (aprendizaje) analítica/directa\n",
        "\n",
        "$$\\boxed{\\boldsymbol{\\Theta}=(\\mathbf{F}^T\\mathbf{F})^{-1}\\,\\mathbf{F}^TX}$$"
      ]
    },
    {
      "cell_type": "markdown",
      "metadata": {
        "id": "qHjMrrdD7aWM"
      },
      "source": [
        "* En este caso $\\mathbf{F}$ es una matriz $2\\times{}2$ simétrica y el cálculo de su inversa es elemental,\n",
        "$$\n",
        "\\begin{pmatrix}\n",
        "a&b\\\\\n",
        "b&d\n",
        "\\end{pmatrix}^{-1}=\\frac{1}{\\Delta}\\begin{pmatrix}\n",
        "d&-b\\\\\n",
        "-b&a\n",
        "\\end{pmatrix}\\,,\n",
        "$$\n",
        "donde $\\Delta$ el determinante tiene valor\n",
        "$$\n",
        "\\Delta=ad-b^2$$"
      ]
    },
    {
      "cell_type": "markdown",
      "metadata": {
        "id": "0pKEUlzeOu2U"
      },
      "source": [
        "### Paso 3a: Construción de\n",
        "$$(\\mathbf{F}^T\\mathbf{F})^{-1}$$"
      ]
    },
    {
      "cell_type": "code",
      "metadata": {
        "id": "2MpR-W2a8et-"
      },
      "source": [
        "FTF_inv=np.empty_like(FTF)\n",
        "\n",
        "FTF_inv[0,0]=FTF[1,1]\n",
        "FTF_inv[0,1]=-FTF[0,1]\n",
        "FTF_inv[1,0]=-FTF[1,0]\n",
        "FTF_inv[1,1]=FTF[0,0]\n",
        "DELTA=FTF_inv[0,0]*FTF_inv[1,1]-FTF_inv[0,1]*FTF_inv[1,0]\n",
        "DELTA=1./DELTA\n",
        "FTF_inv=DELTA*FTF_inv"
      ],
      "execution_count": null,
      "outputs": []
    },
    {
      "cell_type": "markdown",
      "metadata": {
        "id": "cp-5jmvwWA4z"
      },
      "source": [
        "### Paso 3b: Construción del lado derecho del sistema:\n",
        "$$\\mathbf{F}^T\\mathbf{X}$$\n",
        "\n",
        "### Paso 3d: Solución\n",
        "$$\\boxed{\\boldsymbol{\\Theta}=(\\mathbf{F}^T\\mathbf{F})^{-1}\\,\\mathbf{F}^TX}$$"
      ]
    },
    {
      "cell_type": "code",
      "metadata": {
        "id": "wsw-Z-3Zbppn"
      },
      "source": [
        "G=FT.dot(x) # Lado derecho del sistema\n",
        "\n",
        "model_hand=FTF_inv.dot(G) # Solución"
      ],
      "execution_count": null,
      "outputs": []
    },
    {
      "cell_type": "markdown",
      "metadata": {
        "id": "7rJop2JRWpSL"
      },
      "source": [
        "### Solución uando linalg (para dar un ejemplo de comparación)\n",
        "\n",
        "* linalg usa técnicas avanzadas de álgebra lineal numeŕica para resolver el sistema de ecuaciones, su uso es totalmente innecesario en este caso pero se incluye para propóistos pedagógicos.\n"
      ]
    },
    {
      "cell_type": "code",
      "metadata": {
        "id": "h0UqW1E9WfpB"
      },
      "source": [
        "model=linalg.inv(FTF).dot(G)"
      ],
      "execution_count": null,
      "outputs": []
    },
    {
      "cell_type": "markdown",
      "metadata": {
        "id": "qpZgU7sJW2vd"
      },
      "source": [
        "### Resultados"
      ]
    },
    {
      "cell_type": "code",
      "metadata": {
        "colab": {
          "base_uri": "https://localhost:8080/"
        },
        "id": "_SSagEGWb80t",
        "outputId": "b2768de4-af34-498c-e409-ba99c7792eba"
      },
      "source": [
        "print('Pendiente del Modelo Sintético:',Theta[1],'\\n')\n",
        "\n",
        "print('Intercepto del Modelo Sintético:',Theta[0],'\\n')### Salida\n",
        "\n",
        "print('Aprendizaje por via de la Solución Analítica\\n')\n",
        "\n",
        "print('Pendiente:',model_hand[1],'\\n')\n",
        "\n",
        "print('Intercepto:',model_hand[0],'\\n')\n",
        "\n",
        "print('Aprendizaje por via de la Solución Analítica usando linalg\\n')\n",
        "\n",
        "print('Pendiente:',model[1],'\\n')\n",
        "\n",
        "print('Intercepto:',model[0])"
      ],
      "execution_count": null,
      "outputs": [
        {
          "output_type": "stream",
          "text": [
            "Pendiente del Modelo Sintético: -1.41 \n",
            "\n",
            "Intercepto del Modelo Sintético: 0.57 \n",
            "\n",
            "Aprendizaje por via de la Solución Analítica\n",
            "\n",
            "Pendiente: -1.4229457377529424 \n",
            "\n",
            "Intercepto: 0.6253938199079734 \n",
            "\n",
            "Aprendizaje por via de la Solución Analítica usando linalg\n",
            "\n",
            "Pendiente: -1.4229457377529433 \n",
            "\n",
            "Intercepto: 0.6253938199079769\n"
          ],
          "name": "stdout"
        }
      ]
    },
    {
      "cell_type": "markdown",
      "metadata": {
        "id": "of5kwGi3XOlf"
      },
      "source": [
        "------------------------------------------------------------"
      ]
    },
    {
      "cell_type": "markdown",
      "metadata": {
        "id": "V39IaSkl9op_"
      },
      "source": [
        "# Segundo Ajuste \n",
        "\n",
        "## Aprendizaje por método de gradiente"
      ]
    },
    {
      "cell_type": "markdown",
      "metadata": {
        "id": "jEdA5yVXYT5e"
      },
      "source": [
        "### Paso 1: Funciones"
      ]
    },
    {
      "cell_type": "markdown",
      "metadata": {
        "id": "XzvDiatQmq0m"
      },
      "source": [
        "* Función de costo/loss (será necesaria en el criterio de parada del algoritmo)\n",
        "\n",
        "$$J(\\boldsymbol{\\Theta})=(\\mathbf{d}-\\mathbf{F}\\boldsymbol{\\Theta})^T(\\mathbf{d}-\\mathbf{Fm})$$"
      ]
    },
    {
      "cell_type": "code",
      "metadata": {
        "id": "bPtfTg2rpiKd"
      },
      "source": [
        "def Cost(d,t,Theta,porcentaje_ruido):\n",
        "  N=2.*float(len(t))\n",
        "  s=d-hipotesis(t,Theta,porcentaje_ruido)\n",
        "  c=s.dot(s.T)/N\n",
        "  return(c)"
      ],
      "execution_count": null,
      "outputs": []
    },
    {
      "cell_type": "markdown",
      "metadata": {
        "id": "C_GsQHVDrfy7"
      },
      "source": [
        "* El gradiente de $J$ \n",
        "\n",
        "$$\\nabla_{\\boldsymbol{\\Theta}^T}J(\\boldsymbol{\\Theta})=-\\mathbf{F}^T(\\mathbf{d}-\\mathbf{F}\\boldsymbol{\\Theta})$$"
      ]
    },
    {
      "cell_type": "code",
      "metadata": {
        "id": "emE0dcMgWDXk"
      },
      "source": [
        "def grad(d,F,Theta):\n",
        "  M=F.T\n",
        "  s=d-F.dot(Theta)\n",
        "  gr=-M.dot(s)/float(len(d))\n",
        "  return(gr)"
      ],
      "execution_count": null,
      "outputs": []
    },
    {
      "cell_type": "code",
      "metadata": {
        "colab": {
          "base_uri": "https://localhost:8080/"
        },
        "id": "psNgO47nBBUr",
        "outputId": "b13ddaf6-a150-4ab0-a39e-db08de1f90cb"
      },
      "source": [
        "print(grad(x,F,Theta))"
      ],
      "execution_count": null,
      "outputs": [
        {
          "output_type": "stream",
          "text": [
            "[0.00933487 0.16534361]\n"
          ],
          "name": "stdout"
        }
      ]
    },
    {
      "cell_type": "markdown",
      "metadata": {
        "id": "EeoBY6DcfwLn"
      },
      "source": [
        "### Función para el **Algoritmo de Descenso por Gradiente**\n",
        "\n",
        "* El algoritmo comienza dando una semilla (valor inicial) $\\boldsymbol{\\Theta}^{(0)}$\n",
        "\n",
        "* A partir de la semilla se itera (el superíndice k indica la iteración) para conseguir nuevos valores de los parámetros\n",
        "\n",
        "$$\\boldsymbol{\\Theta}^{(k+1)}=\\boldsymbol{\\Theta}^{(k)}-\\mu\\nabla_{\\boldsymbol{\\Theta}^T}J(\\boldsymbol{\\Theta}^{(k)})$$\n",
        "\n",
        "* La iteración se detiende con algún criterio.\n",
        "* El criterio que estamos usando es la estabilización de la función de costo."
      ]
    },
    {
      "cell_type": "code",
      "metadata": {
        "id": "fjnEH-83468J"
      },
      "source": [
        "def descenso(Cost,grad,x,t,F,theta_ini,mu,criterio,N_max): # Tasa de aprendizaje, valor recomendado 0.05\n",
        "\n",
        "  theta=theta_ini\n",
        "  theta_history = theta\n",
        "  cost_history = Cost(x,t,theta,0.) #obj_func(w,extra_param)\n",
        "  delta_theta = np.zeros(theta.shape)\n",
        "  n_iter= 0\n",
        "  c=1.0e3 # c es una valor para comparar con criterio\n",
        "\n",
        "  while c > criterio and n_iter<N_max:\n",
        "      \n",
        "      Gradiente=grad(x,F,theta)\n",
        "      delta_theta=-mu*Gradiente\n",
        "      theta=theta+delta_theta\n",
        "      \n",
        "      # Almacenar la  evolución de theta y loss\n",
        "      theta_history = np.vstack((theta_history,theta))\n",
        "      cost_history = np.vstack((cost_history,Cost(x,t,theta,0.)))\n",
        "        \n",
        "        # update de n_iter y comparación e valores de Loss\n",
        "      n_iter+=1\n",
        "      #print(n_iter)\n",
        "      c = np.absolute(cost_history[-1]-cost_history[-2])\n",
        "    \n",
        "  return(n_iter,theta_history,cost_history)\n",
        "  #return(cost_history)\n",
        "  print(n_iter)\n",
        "  #return(theta_history)\n"
      ],
      "execution_count": null,
      "outputs": []
    },
    {
      "cell_type": "markdown",
      "metadata": {
        "id": "-opaZedYgwum"
      },
      "source": [
        "### Paso 2: Aplicación del algoritmo al aprendizaje con los datos sintéticos"
      ]
    },
    {
      "cell_type": "markdown",
      "metadata": {
        "id": "eWvUhXVRYqkX"
      },
      "source": [
        "### Paso 2a: Semilla de los parámetros, tasa de aprenmdizaje y criterio de parada."
      ]
    },
    {
      "cell_type": "code",
      "metadata": {
        "id": "rWCLWkIuM-hL"
      },
      "source": [
        "Theta_ini=np.zeros(2)\n",
        "Theta_ini[0]=2.\n",
        "Theta_ini[1]=2.\n",
        "\n",
        "mu=0.005 #tasa_de_aprendizaje\n",
        "criterio=1e-05\n",
        "N_it=50000"
      ],
      "execution_count": null,
      "outputs": []
    },
    {
      "cell_type": "markdown",
      "metadata": {
        "id": "US78LxgTZGuE"
      },
      "source": [
        "### Paso 2b: Llamada al algoritmo de descenso"
      ]
    },
    {
      "cell_type": "code",
      "metadata": {
        "id": "s7eMfmZ1ZGXh"
      },
      "source": [
        "solucion=descenso(Cost,grad,x,t,F,Theta_ini,mu,criterio,N_it)"
      ],
      "execution_count": null,
      "outputs": []
    },
    {
      "cell_type": "markdown",
      "metadata": {
        "id": "2SEFx-N_ZcQ_"
      },
      "source": [
        "### Paso 3: Salida"
      ]
    },
    {
      "cell_type": "code",
      "metadata": {
        "colab": {
          "base_uri": "https://localhost:8080/",
          "height": 265
        },
        "id": "UwyPOgRtUzjc",
        "outputId": "86c1b30c-4c74-4616-b175-f0751e7f20b7"
      },
      "source": [
        "import matplotlib.pyplot as plt\n",
        "\n",
        "ss=solucion[2]\n",
        "plt.plot(ss)\n",
        "plt.show()"
      ],
      "execution_count": null,
      "outputs": [
        {
          "output_type": "display_data",
          "data": {
            "image/png": "[encoded data removed]",
            "text/plain": [
              "<Figure size 432x288 with 1 Axes>"
            ]
          },
          "metadata": {
            "needs_background": "light"
          }
        }
      ]
    },
    {
      "cell_type": "code",
      "metadata": {
        "colab": {
          "base_uri": "https://localhost:8080/"
        },
        "id": "4mTpXOUwCK7i",
        "outputId": "624cf033-741b-46d9-b8fa-1e83888960bc"
      },
      "source": [
        "print('Pendiente e Intercepto de los datos sintéticos:',Theta[1],Theta[0],'\\n')\n",
        "\n",
        "e_pendiente=np.abs(Theta[1]-solucion[1][-1][1])\n",
        "e_intercepto=np.abs(Theta[0]-solucion[1][-1][0])\n",
        "\n",
        "\n",
        "print('Solución luego de ',solucion[0],' Épocas (iteraciones)','\\n')\n",
        "\n",
        "print('Pendiente:',solucion[1][-1][1],'Error',e_pendiente,'\\n')\n",
        "print('Intercepto:',solucion[1][-1][0],'Error',e_intercepto,'\\n')\n"
      ],
      "execution_count": null,
      "outputs": [
        {
          "output_type": "stream",
          "text": [
            "Pendiente e Intercepto de los datos sintéticos: -1.41 0.57 \n",
            "\n",
            "Solución luego de  1234  Épocas (iteraciones) \n",
            "\n",
            "Pendiente: -1.4477545673801815 Error 0.03775456738018157 \n",
            "\n",
            "Intercepto: 0.7936177396267649 Error 0.2236177396267649 \n",
            "\n"
          ],
          "name": "stdout"
        }
      ]
    },
    {
      "cell_type": "markdown",
      "metadata": {
        "id": "jAIIxESgcBNv"
      },
      "source": [
        "___________________________________________________________\n"
      ]
    },
    {
      "cell_type": "markdown",
      "metadata": {
        "id": "Q0hejFuOoayd"
      },
      "source": [
        "# **Parte III**\n",
        "\n",
        "### Uso de Bibliotecas"
      ]
    },
    {
      "cell_type": "markdown",
      "metadata": {
        "id": "Ik3Ae87CX1H3"
      },
      "source": [
        "# Tercer Ajuste\n",
        "\n",
        "* Solución analítica\n",
        "\n",
        "* Uso de la función *linregress*, de stats de scipy."
      ]
    },
    {
      "cell_type": "code",
      "metadata": {
        "colab": {
          "base_uri": "https://localhost:8080/",
          "height": 399
        },
        "id": "DCxCqgzKWkFq",
        "outputId": "8f819b08-f965-4a35-a3a1-c80c09feadf5"
      },
      "source": [
        "pos = stats.linregress(t,x)\n",
        "\n",
        "t_min=t[0]\n",
        "t_max=t[len(t)-1]\n",
        "\n",
        "\n",
        "print(f\"Pendiente: {pos.slope:.6f}\",'\\n')\n",
        "\n",
        "print(f\"Intercepto: {pos.intercept:.6f}\",'\\n')\n",
        "\n",
        "print(f\"R^2: {pos.rvalue**2:.6f},\\n\")\n",
        "\n",
        "\n",
        "fig, ax = plt.subplots()\n",
        "ax.scatter(t, x, edgecolors=(0, 0, 1))\n",
        "#ax.plot([0.,10.], [v0*t_min+x0,v0*t_max+x0], 'k--', lw=4)\n",
        "ax.plot([0.,10.], [pos.slope*t_min+pos.intercept,pos.slope*t_max+pos.intercept], 'k--', lw=4)\n",
        "plt.title('Ajuste con linregress')\n",
        "ax.set_xlabel('tiempo (s)')\n",
        "ax.set_ylabel('Posición (m)')\n",
        "plt.show()"
      ],
      "execution_count": null,
      "outputs": [
        {
          "output_type": "stream",
          "text": [
            "Pendiente: 0.487054 \n",
            "\n",
            "Intercepto: 1.055394 \n",
            "\n",
            "R^2: 0.996326,\n",
            "\n"
          ],
          "name": "stdout"
        },
        {
          "output_type": "display_data",
          "data": {
            "image/png": "[encoded data removed]",
            "text/plain": [
              "<Figure size 432x288 with 1 Axes>"
            ]
          },
          "metadata": {
            "needs_background": "light"
          }
        }
      ]
    },
    {
      "cell_type": "markdown",
      "metadata": {
        "id": "OBwOoVMDcKj7"
      },
      "source": [
        "___________________________________________________________"
      ]
    },
    {
      "cell_type": "markdown",
      "metadata": {
        "id": "shVFHdxVaddL"
      },
      "source": [
        "# Cuarto Ajuste\n",
        "\n",
        "* Biblioteca de ML *sklearn*\n",
        "* sklearntiene dos funcionalidades para llevar a cabo el ajuste.\n",
        "* Ambas funcionalidades requieren un reordenamiento de los datos"
      ]
    },
    {
      "cell_type": "markdown",
      "metadata": {
        "id": "O74u3NSD3T_z"
      },
      "source": [
        "* Reordenamiento"
      ]
    },
    {
      "cell_type": "code",
      "metadata": {
        "id": "KVQU1cG83ebw"
      },
      "source": [
        "tr=t.reshape(-1,1)\n",
        "xr=x.reshape(-1,1)"
      ],
      "execution_count": null,
      "outputs": []
    },
    {
      "cell_type": "markdown",
      "metadata": {
        "id": "cD-BLiIE9gOK"
      },
      "source": [
        "### Primer enfoque"
      ]
    },
    {
      "cell_type": "code",
      "metadata": {
        "colab": {
          "base_uri": "https://localhost:8080/"
        },
        "id": "x6qu-Wd_84B_",
        "outputId": "5c4f3fd0-9f06-43c4-fd93-62d5acff391d"
      },
      "source": [
        "reg_1 = LinearRegression().fit(tr,xr)\n",
        "\n",
        "pendiente=reg_1.coef_[0][0]\n",
        "\n",
        "intercepto=reg_1.intercept_[0]\n",
        "\n",
        "print('Pendiente',pendiente,'\\n')\n",
        "\n",
        "print('Intercepto',intercepto,'\\n')\n",
        "\n",
        "print('R^2',reg_1.score(tr,xr))"
      ],
      "execution_count": null,
      "outputs": [
        {
          "output_type": "stream",
          "text": [
            "Pendiente 0.48705426224705667 \n",
            "\n",
            "Intercepto 1.0553938199079784 \n",
            "\n",
            "R^2 0.9963264302728575\n"
          ],
          "name": "stdout"
        }
      ]
    },
    {
      "cell_type": "code",
      "metadata": {
        "colab": {
          "base_uri": "https://localhost:8080/",
          "height": 295
        },
        "id": "YRPfws0RCprz",
        "outputId": "d3210f39-244c-4fa8-a575-81d942338c24"
      },
      "source": [
        "fig, bx = plt.subplots()\n",
        "bx.scatter(tr, xr, edgecolors=(0, 0, 0))\n",
        "bx.plot([0.,10.], [pendiente*t_min+intercepto,pendiente*t_max+intercepto], 'k--', lw=4)\n",
        "plt.title('Primer Ajuste con sklearn')\n",
        "bx.set_xlabel('tiempo (s)')\n",
        "bx.set_ylabel('Posición (m)')\n",
        "plt.show()"
      ],
      "execution_count": null,
      "outputs": [
        {
          "output_type": "display_data",
          "data": {
            "image/png": "[encoded data removed]",
            "text/plain": [
              "<Figure size 432x288 with 1 Axes>"
            ]
          },
          "metadata": {
            "needs_background": "light"
          }
        }
      ]
    },
    {
      "cell_type": "markdown",
      "metadata": {
        "id": "_b2aH4bWA7pD"
      },
      "source": [
        "* Predicciones (extrapolaciones)"
      ]
    },
    {
      "cell_type": "code",
      "metadata": {
        "colab": {
          "base_uri": "https://localhost:8080/"
        },
        "id": "E7AQHIAhA_Gn",
        "outputId": "058f2a70-f6a1-4e0f-b58c-bd17f5bd5764"
      },
      "source": [
        "t_new=np.array([0.0,0.5,1.0])\n",
        "t_new=t_new.reshape(-1,1)\n",
        "extrapolacion=reg_1.predict(t_new)\n",
        "print(extrapolacion)"
      ],
      "execution_count": null,
      "outputs": [
        {
          "output_type": "stream",
          "text": [
            "[[1.05539382]\n",
            " [1.29892095]\n",
            " [1.54244808]]\n"
          ],
          "name": "stdout"
        }
      ]
    },
    {
      "cell_type": "markdown",
      "metadata": {
        "id": "eRHUIEQQ9kJ8"
      },
      "source": [
        "### Segundo enfoque (sklearn.sklearn.linear_model)"
      ]
    },
    {
      "cell_type": "markdown",
      "metadata": {
        "id": "rw0Mj35U3jvC"
      },
      "source": [
        "* Definición de los conjuntos de entrenamiento y prueba"
      ]
    },
    {
      "cell_type": "code",
      "metadata": {
        "id": "cZuDzPHa3pGl"
      },
      "source": [
        "t_train=tr[:-10] # esto toma los primeros 11 elementos de t\n",
        "t_test = tr[-10:] # esto toma el resto de la lista\n",
        "\n",
        "x_train=xr[:-10]\n",
        "x_test=xr[-10:]\n"
      ],
      "execution_count": null,
      "outputs": []
    },
    {
      "cell_type": "markdown",
      "metadata": {
        "id": "fOO-3w1m3xze"
      },
      "source": [
        "* Modelo"
      ]
    },
    {
      "cell_type": "code",
      "metadata": {
        "id": "lwtrQNUC7a5G"
      },
      "source": [
        "regr = linear_model.LinearRegression()\n",
        "\n",
        "# Entrenamiento\n",
        "\n",
        "regr.fit(t_train,x_train)\n",
        "\n",
        "# Predicciones\n",
        "\n",
        "x_predict = regr.predict(t_test)\n"
      ],
      "execution_count": null,
      "outputs": []
    },
    {
      "cell_type": "markdown",
      "metadata": {
        "id": "Q-R6A8Pc4PIz"
      },
      "source": [
        "* Salida"
      ]
    },
    {
      "cell_type": "code",
      "metadata": {
        "colab": {
          "base_uri": "https://localhost:8080/"
        },
        "id": "2vjPtqE54UI4",
        "outputId": "b96537cd-1db8-4986-c0a7-10ebe2f30348"
      },
      "source": [
        "print('Pendiente: \\n', regr.coef_,'\\n')\n",
        "\n",
        "print('Intercepto: \\n', regr.intercept_,'\\n')\n",
        "\n",
        "print('Error (incertidumbre) cuadrática media: %.2f'\n",
        "      % mean_squared_error(x_test, x_predict),'\\n')\n",
        "\n",
        "# The coefficient of determination: 1 is perfect prediction\n",
        "print('Coeficiente de determinación: %.2f'\n",
        "      % r2_score(x_test, x_predict))"
      ],
      "execution_count": null,
      "outputs": [
        {
          "output_type": "stream",
          "text": [
            "Pendiente: \n",
            " [[0.49067877]] \n",
            "\n",
            "Intercepto: \n",
            " [1.05982301] \n",
            "\n",
            "Error (incertidumbre) cuadrática media: 0.01 \n",
            "\n",
            "Coeficiente de determinación: 0.98\n"
          ],
          "name": "stdout"
        }
      ]
    },
    {
      "cell_type": "markdown",
      "metadata": {
        "id": "y0QyRMnaCTcS"
      },
      "source": [
        "__________________________________________________________________"
      ]
    },
    {
      "cell_type": "markdown",
      "metadata": {
        "id": "0AyWKZ3KWiim"
      },
      "source": [
        " * Ejemplos (A FUTURO)\n",
        "\n",
        " https://www.scribbr.com/statistics/simple-linear-regression/\n",
        "\n",
        "\n",
        " https://towardsdatascience.com/linear-regression-with-example-8daf6205bd49"
      ]
    }
  ]
}